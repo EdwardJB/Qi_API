{
 "cells": [
  {
   "cell_type": "code",
   "execution_count": null,
   "metadata": {},
   "outputs": [],
   "source": [
    "!pip install retrying"
   ]
  },
  {
   "cell_type": "code",
   "execution_count": null,
   "metadata": {},
   "outputs": [],
   "source": [
    "### Set your API Key\n",
    "\n",
    "%set_env QI_API_KEY = YOUR_API_KEY"
   ]
  },
  {
   "cell_type": "code",
   "execution_count": null,
   "metadata": {},
   "outputs": [],
   "source": [
    "### Download Qi_wrapper from https://github.com/Quant-Insight/Qi_API\n",
    "\n",
    "import Qi_wrapper\n",
    "import pandas\n",
    "import numpy as np"
   ]
  },
  {
   "cell_type": "code",
   "execution_count": null,
   "metadata": {},
   "outputs": [],
   "source": [
    "### Variables\n",
    "\n",
    "benchmark_name = 'SPX'\n",
    "date = '2020-03-16'\n",
    "term = 'Long Term'"
   ]
  },
  {
   "cell_type": "code",
   "execution_count": null,
   "metadata": {},
   "outputs": [],
   "source": [
    "### Create Portfolio with positions and weights\n",
    "\n",
    "portfolio = pandas.DataFrame({'Name':['MSFT','GOOG','PG','JPM','AAPL','FB','GS','MRO','DEI','SO'],\n",
    "            'Position':[194300000,142000000,122440000,122440000,113940000,109690000,106290000,102040000,102040000,99060000]})\n",
    "                  \n",
    "portfolio['Weight'] = [abs(x)/sum(abs(portfolio.Position)) for x in portfolio.Position]\n",
    "portfolio['L/S'] = [1]*len(portfolio)"
   ]
  },
  {
   "cell_type": "code",
   "execution_count": null,
   "metadata": {},
   "outputs": [],
   "source": [
    "### Creates cash exposure table\n",
    "\n",
    "Qi_wrapper.get_portfolio_cash_exposures_bucket(portfolio,date)"
   ]
  },
  {
   "cell_type": "code",
   "execution_count": null,
   "metadata": {},
   "outputs": [],
   "source": [
    "### Gets portfolio sensitivites to top 15 macro factors\n",
    "\n",
    "sens = Qi_wrapper.get_portfolio_sens_exposures_factor(portfolio,date)\n",
    "sens[abs(sens.loc['Total']).nlargest(10).index].loc[['Total']]"
   ]
  },
  {
   "cell_type": "code",
   "execution_count": null,
   "metadata": {},
   "outputs": [],
   "source": [
    "### Gets the std's of each of the top 15 macro factors\n",
    "\n",
    "Qi_wrapper.get_factor_stdevs(benchmark_name,date,term).T[abs(sens.loc['Total']).nlargest(10).index]"
   ]
  },
  {
   "cell_type": "code",
   "execution_count": null,
   "metadata": {},
   "outputs": [],
   "source": [
    "### Create pie chart data\n",
    "\n",
    "import numpy as np\n",
    "\n",
    "sens_buckets = Qi_wrapper.get_portfolio_sens_exposures_bucket(portfolio,date)\n",
    "pie_data = sens_buckets.loc[['Total']].T.sort_values(by='Total')[::-1]\n",
    "pie_data.Total = [abs(x)/abs(pie_data).Total.sum() for x in pie_data.Total]"
   ]
  },
  {
   "cell_type": "code",
   "execution_count": null,
   "metadata": {},
   "outputs": [],
   "source": [
    "### Plot pie chart\n",
    "\n",
    "import matplotlib.pyplot as plt\n",
    "\n",
    "\n",
    "labels = pie_data.index\n",
    "sizes = pie_data.Total\n",
    "\n",
    "fig1, ax1 = plt.subplots(figsize=(15, 12))\n",
    "\n",
    "\n",
    "ax1.pie(sizes, labels=labels, autopct='%1.1f%%',\n",
    "        shadow=False, startangle=90)\n",
    "ax1.axis('equal')  # Equal aspect ratio ensures that pie is drawn as a circle.\n",
    "\n",
    "plt.show()"
   ]
  },
  {
   "cell_type": "code",
   "execution_count": null,
   "metadata": {},
   "outputs": [],
   "source": [
    "### Creates data for bar and scatter plot (Risk relative to benchmark)\n",
    "\n",
    "bar_plot_data = sens_buckets.loc[['Total']].T.sort_values(by='Total')[::-1]\n",
    "\n",
    "benchmark = Qi_wrapper.get_bucket_drivers(benchmark_name,date,term)\n",
    "\n",
    "idxs = bar_plot_data.index.tolist()\n",
    "\n",
    "bar_plot_data[benchmark_name] = benchmark[idxs].T.Sensitivity"
   ]
  },
  {
   "cell_type": "code",
   "execution_count": null,
   "metadata": {},
   "outputs": [],
   "source": [
    "### Plot sensitivities relative to a benchmark\n",
    "\n",
    "fig = plt.figure(figsize=(15, 8))\n",
    "ax = fig.add_subplot(111)\n",
    "ax.spines[\"top\"].set_visible(False)  \n",
    "ax.spines[\"right\"].set_visible(False)\n",
    "ax.bar(bar_plot_data.index,bar_plot_data.Total,zorder=1)\n",
    "ax.scatter(bar_plot_data.index,bar_plot_data.SPX,zorder=2,color='red')\n",
    "plt.xticks(rotation='vertical')\n",
    "plt.ylabel('% Chng in Portfolio for a 1std move in Factor',size=12)\n",
    "plt.legend([benchmark_name,'Fund'])\n",
    "plt.show()"
   ]
  }
 ],
 "metadata": {
  "kernelspec": {
   "display_name": "Python 3",
   "language": "python",
   "name": "python3"
  },
  "language_info": {
   "codemirror_mode": {
    "name": "ipython",
    "version": 3
   },
   "file_extension": ".py",
   "mimetype": "text/x-python",
   "name": "python",
   "nbconvert_exporter": "python",
   "pygments_lexer": "ipython3",
   "version": "3.7.0"
  }
 },
 "nbformat": 4,
 "nbformat_minor": 2
}
